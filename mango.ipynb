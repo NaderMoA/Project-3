{
 "cells": [
  {
   "cell_type": "code",
   "execution_count": null,
   "id": "5ad7dd8e",
   "metadata": {},
   "outputs": [],
   "source": [
    "from pymongo import MongoClient\n",
    "mongo= MongoClient(port=27017)\n",
    "import requests\n",
    "import pandas as pd\n",
    "from pymongo import MongoClient\n",
    "\n",
    "dropbox_url = 'https://www.dropbox.com/scl/fi/xpnftnhemp1u0lpzytofu/cancer_trends.csv?rlkey=wwessskyerveebfwpxj4zsxys&dl=1'\n",
    "response = requests.get(dropbox_url)\n",
    "open('cancer_trends.csv', 'wb').write(response.content)\n",
    "\n",
    "db = mongo['test']\n",
    "collection = db['temp']\n",
    "\n",
    "data = pd.read_csv('cancer_trends.csv')\n",
    "\n",
    "data_dict = data.to_dict(\"records\")\n",
    "collection.insert_many(data_dict)\n",
    "query_results = collection.find({})\n",
    "# Convert to pandas DataFrame\n",
    "df = pd.DataFrame(list(query_results))\n",
    "# Save to CSV\n",
    "df.to_csv('output.csv', index=False)"
   ]
  }
 ],
 "metadata": {
  "kernelspec": {
   "display_name": "Python 3 (ipykernel)",
   "language": "python",
   "name": "python3"
  },
  "language_info": {
   "codemirror_mode": {
    "name": "ipython",
    "version": 3
   },
   "file_extension": ".py",
   "mimetype": "text/x-python",
   "name": "python",
   "nbconvert_exporter": "python",
   "pygments_lexer": "ipython3",
   "version": "3.10.9"
  }
 },
 "nbformat": 4,
 "nbformat_minor": 5
}
