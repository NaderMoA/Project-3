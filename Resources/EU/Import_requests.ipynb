{
 "cells": [
  {
   "cell_type": "code",
   "execution_count": 3,
   "id": "1a722b10",
   "metadata": {},
   "outputs": [
    {
     "name": "stdout",
     "output_type": "stream",
     "text": [
      "cancer_trends.csv downloaded successfully.\n",
      "common_cancer_f.csv downloaded successfully.\n",
      "common_cancer_m.csv downloaded successfully.\n",
      "lifetime_risk_mf.csv downloaded successfully.\n",
      "new_vs_death.csv downloaded successfully.\n"
     ]
    }
   ],
   "source": [
    "import requests\n",
    "import os\n",
    "# List of URLs to download\n",
    "urls = [\n",
    "    'https://www.dropbox.com/scl/fi/xpnftnhemp1u0lpzytofu/cancer_trends.csv?rlkey=wwessskyerveebfwpxj4zsxys&dl=1',\n",
    "    'https://www.dropbox.com/scl/fi/05uwipxr5nd1zxi12mh5s/common_cancer_f.csv?rlkey=a3ilb6mwh48dtjatxumynpfpk&dl=1',\n",
    "    'https://www.dropbox.com/scl/fi/ajr79p7cauubm5bnrdmjm/common_cancer_m.csv?rlkey=4ulpsej4alnejeer64da7q9im&dl=1',\n",
    "    'https://www.dropbox.com/scl/fi/eratabnixaqb2n1dps1ok/lifetime_risk_mf.csv?rlkey=n7p8yrdjgq5arxw1r7ap2t4ye&dl=1',\n",
    "    'https://www.dropbox.com/scl/fi/vq77hi5s10y7z1unfjxei/new_vs_death.csv?rlkey=whn2fbz22hyhhzven7yfkagre&dl=1'\n",
    "]\n",
    "# Function to extract file name from URL\n",
    "def extract_filename(url):\n",
    "    path = url.split('?')[0]  # Remove query string\n",
    "    filename = path.split('/')[-1]  # Extract file name\n",
    "    return filename\n",
    "# Loop through the URLs\n",
    "for url in urls:\n",
    "    response = requests.get(url)\n",
    "    if response.status_code == 200:\n",
    "        filename = extract_filename(url)\n",
    "        with open(filename, 'wb') as file:\n",
    "            file.write(response.content)\n",
    "        print(f\"{filename} downloaded successfully.\")\n",
    "    else:\n",
    "        print(f\"Failed to download {url}. Status code: {response.status_code}\")"
   ]
  },
  {
   "cell_type": "code",
   "execution_count": null,
   "id": "0fdf29e0",
   "metadata": {},
   "outputs": [],
   "source": []
  }
 ],
 "metadata": {
  "kernelspec": {
   "display_name": "Python 3 (ipykernel)",
   "language": "python",
   "name": "python3"
  },
  "language_info": {
   "codemirror_mode": {
    "name": "ipython",
    "version": 3
   },
   "file_extension": ".py",
   "mimetype": "text/x-python",
   "name": "python",
   "nbconvert_exporter": "python",
   "pygments_lexer": "ipython3",
   "version": "3.11.5"
  }
 },
 "nbformat": 4,
 "nbformat_minor": 5
}
