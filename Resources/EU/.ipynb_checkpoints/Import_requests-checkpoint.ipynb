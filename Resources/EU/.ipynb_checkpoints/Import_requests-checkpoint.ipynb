{
 "cells": [
  {
   "cell_type": "code",
   "execution_count": 2,
   "id": "27b12e76",
   "metadata": {},
   "outputs": [
    {
     "name": "stdout",
     "output_type": "stream",
     "text": [
      "File file1.csv downloaded successfully.\n",
      "File file2.csv downloaded successfully.\n",
      "File file3.csv downloaded successfully.\n",
      "File file4.csv downloaded successfully.\n",
      "File file5.csv downloaded successfully.\n"
     ]
    }
   ],
   "source": [
    "import requests\n",
    "\n",
    "# List of URLs to download\n",
    "EU_urls = [\n",
    "    'https://www.dropbox.com/scl/fi/xpnftnhemp1u0lpzytofu/cancer_trends.csv?rlkey=wwessskyerveebfwpxj4zsxys&dl=1',\n",
    "    'https://www.dropbox.com/scl/fi/05uwipxr5nd1zxi12mh5s/common_cancer_f.csv?rlkey=a3ilb6mwh48dtjatxumynpfpk&dl=1',\n",
    "    'https://www.dropbox.com/scl/fi/ajr79p7cauubm5bnrdmjm/common_cancer_m.csv?rlkey=4ulpsej4alnejeer64da7q9im&dl=1',\n",
    "    'https://www.dropbox.com/scl/fi/eratabnixaqb2n1dps1ok/lifetime_risk_mf.csv?rlkey=n7p8yrdjgq5arxw1r7ap2t4ye&dl=1',\n",
    "    'https://www.dropbox.com/scl/fi/vq77hi5s10y7z1unfjxei/new_vs_death.csv?rlkey=whn2fbz22hyhhzven7yfkagre&dl=1'\n",
    "]\n",
    "\n",
    "# Loop through the URLs\n",
    "for i, EU_url in enumerate(EU_urls):\n",
    "    response = requests.get(EU_url)\n",
    "    if response.status_code == 200:\n",
    "        filename = f'file{i+1}.csv'  # Creates a unique filename for each file\n",
    "        with open(filename, 'wb') as file:\n",
    "            file.write(response.content)\n",
    "        print(f\"File {filename} downloaded successfully.\")\n",
    "    else:\n",
    "        print(f\"Failed to download {EU_url}. Status code: {response.status_code}\")"
   ]
  },
  {
   "cell_type": "code",
   "execution_count": null,
   "id": "c4d5bd75",
   "metadata": {},
   "outputs": [],
   "source": []
  }
 ],
 "metadata": {
  "kernelspec": {
   "display_name": "Python 3 (ipykernel)",
   "language": "python",
   "name": "python3"
  },
  "language_info": {
   "codemirror_mode": {
    "name": "ipython",
    "version": 3
   },
   "file_extension": ".py",
   "mimetype": "text/x-python",
   "name": "python",
   "nbconvert_exporter": "python",
   "pygments_lexer": "ipython3",
   "version": "3.11.5"
  }
 },
 "nbformat": 4,
 "nbformat_minor": 5
}
