{
 "cells": [
  {
   "cell_type": "code",
   "execution_count": 29,
   "id": "c694ebe5",
   "metadata": {},
   "outputs": [
    {
     "name": "stdout",
     "output_type": "stream",
     "text": [
      "Pancreatic cancer, 5-year relative survival: 11.5% \n",
      "Mesothelioma, 5-year relative survival: 12%\n",
      "Gallbladder cancer, 5-year relative survival: 19.4% \n",
      "Esophageal cancer, 5-year relative survival: 20.6% \n",
      "Liver and intrahepatic bile duct cancer, 5-year relative survival: 20.8% \n",
      "Lung and bronchial cancer, 5-year survival: 22.9% \n",
      "Pleural cancer, 5-year survival: 22% \n",
      "Acute monocytic leukemia, 5-year relative survival: 24.8% \n",
      "Brain cancer, 5-year relative survival: 32.5% \n",
      "Acute myeloid leukemia, 5-year relative survival: 30.5% \n"
     ]
    }
   ],
   "source": [
    "from splinter import Browser\n",
    "from bs4 import BeautifulSoup as bs\n",
    "\n",
    "# Open a browser window\n",
    "browser = Browser(\"chrome\")\n",
    "\n",
    "# URL of the webpage\n",
    "url = \"https://www.livescience.com/11041-10-deadliest-cancers-cure.html\"\n",
    "\n",
    "# Visit the webpage\n",
    "browser.visit(url)\n",
    "\n",
    "# Get the HTML content\n",
    "html = browser.html\n",
    "\n",
    "# Parse the HTML using BeautifulSoup\n",
    "soup = bs(html, \"html.parser\")\n",
    "\n",
    "# Find all <span> elements\n",
    "all_spans = soup.find_all(\"span\")\n",
    "\n",
    "# Define the keywords to search for\n",
    "keywords = [\"5-year\", \"survival\"]\n",
    "\n",
    "# Filter out the relevant <span> elements\n",
    "relevant_spans = [span for span in all_spans if all(keyword in span.get_text() for keyword in keywords)]\n",
    "\n",
    "# Extract text from each relevant <span> element\n",
    "for span in relevant_spans:\n",
    "    print(span.get_text())\n",
    "\n",
    "# Close the browser\n",
    "browser.quit()"
   ]
  },
  {
   "cell_type": "code",
   "execution_count": null,
   "id": "0a7fb248",
   "metadata": {},
   "outputs": [],
   "source": []
  }
 ],
 "metadata": {
  "kernelspec": {
   "display_name": "Python 3 (ipykernel)",
   "language": "python",
   "name": "python3"
  },
  "language_info": {
   "codemirror_mode": {
    "name": "ipython",
    "version": 3
   },
   "file_extension": ".py",
   "mimetype": "text/x-python",
   "name": "python",
   "nbconvert_exporter": "python",
   "pygments_lexer": "ipython3",
   "version": "3.11.5"
  }
 },
 "nbformat": 4,
 "nbformat_minor": 5
}
